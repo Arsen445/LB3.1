{
 "cells": [
  {
   "cell_type": "markdown",
   "id": "b27683e9",
   "metadata": {},
   "source": [
    "## индивидуальное задание\n"
   ]
  },
  {
   "cell_type": "markdown",
   "id": "e01a0c94",
   "metadata": {},
   "source": [
    "# Есть 6 городов, которые нужно посетить, но маршрут задаётся случайным образом"
   ]
  },
  {
   "cell_type": "markdown",
   "id": "c0cf578f",
   "metadata": {},
   "source": [
    "Задача - обойти все города, но с произвольным начальным городом и случайным порядком остальных городов."
   ]
  },
  {
   "cell_type": "code",
   "execution_count": 2,
   "id": "a4728295",
   "metadata": {},
   "outputs": [],
   "source": [
    "cities = ['Москва', 'Санкт-Петербург', 'Казань', 'Сочи', 'Екатеринбург', 'Владивосток']"
   ]
  },
  {
   "cell_type": "code",
   "execution_count": 3,
   "id": "332a3577",
   "metadata": {},
   "outputs": [],
   "source": [
    "def visit(city):\n",
    "    print(f\"Посетили город: {city}\")\n",
    "    "
   ]
  },
  {
   "cell_type": "code",
   "execution_count": 4,
   "id": "f1b1f401",
   "metadata": {},
   "outputs": [],
   "source": [
    "import random\n",
    "\n",
    "def visit_cities(cities):\n",
    "    # Выбираем случайный начальный город\n",
    "    start_city = random.choice(cities)\n",
    "    print(f\"Начинаем путешествие с города: {start_city}\")\n",
    "\n",
    "    # Убираем начальный город из списка городов\n",
    "    cities.remove(start_city)\n",
    "\n",
    "    # Перемешиваем оставшиеся города\n",
    "    random.shuffle(cities)\n",
    "\n",
    "    # Добавляем начальный город в начало списка\n",
    "    cities.insert(0, start_city)\n",
    "\n",
    "    # Посещаем все города в новом порядке\n",
    "    for city in cities:\n",
    "        visit(city)"
   ]
  },
  {
   "cell_type": "code",
   "execution_count": 5,
   "id": "403def01",
   "metadata": {},
   "outputs": [
    {
     "name": "stdout",
     "output_type": "stream",
     "text": [
      "Начинаем путешествие с города: Москва\n",
      "Посетили город: Москва\n",
      "Посетили город: Владивосток\n",
      "Посетили город: Санкт-Петербург\n",
      "Посетили город: Казань\n",
      "Посетили город: Екатеринбург\n",
      "Посетили город: Сочи\n"
     ]
    }
   ],
   "source": [
    "visit_cities(cities)"
   ]
  }
 ],
 "metadata": {
  "kernelspec": {
   "display_name": "Python 3 (ipykernel)",
   "language": "python",
   "name": "python3"
  },
  "language_info": {
   "codemirror_mode": {
    "name": "ipython",
    "version": 3
   },
   "file_extension": ".py",
   "mimetype": "text/x-python",
   "name": "python",
   "nbconvert_exporter": "python",
   "pygments_lexer": "ipython3",
   "version": "3.9.13"
  }
 },
 "nbformat": 4,
 "nbformat_minor": 5
}
